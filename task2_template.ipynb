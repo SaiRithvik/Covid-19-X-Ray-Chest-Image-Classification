{
  "nbformat": 4,
  "nbformat_minor": 0,
  "metadata": {
    "kernelspec": {
      "display_name": "Python 3",
      "language": "python",
      "name": "python3"
    },
    "language_info": {
      "codemirror_mode": {
        "name": "ipython",
        "version": 3
      },
      "file_extension": ".py",
      "mimetype": "text/x-python",
      "name": "python",
      "nbconvert_exporter": "python",
      "pygments_lexer": "ipython3",
      "version": "3.7.4"
    },
    "latex_envs": {
      "LaTeX_envs_menu_present": true,
      "autoclose": false,
      "autocomplete": true,
      "bibliofile": "biblio.bib",
      "cite_by": "apalike",
      "current_citInitial": 1,
      "eqLabelWithNumbers": true,
      "eqNumInitial": 1,
      "hotkeys": {
        "equation": "Ctrl-E",
        "itemize": "Ctrl-I"
      },
      "labels_anchors": false,
      "latex_user_defs": false,
      "report_style_numbering": false,
      "user_envs_cfg": false
    },
    "toc": {
      "base_numbering": 1,
      "nav_menu": {},
      "number_sections": true,
      "sideBar": true,
      "skip_h1_title": false,
      "title_cell": "Table of Contents",
      "title_sidebar": "Contents",
      "toc_cell": false,
      "toc_position": {},
      "toc_section_display": true,
      "toc_window_display": false
    },
    "varInspector": {
      "cols": {
        "lenName": 16,
        "lenType": 16,
        "lenVar": 40
      },
      "kernels_config": {
        "python": {
          "delete_cmd_postfix": "",
          "delete_cmd_prefix": "del ",
          "library": "var_list.py",
          "varRefreshCmd": "print(var_dic_list())"
        },
        "r": {
          "delete_cmd_postfix": ") ",
          "delete_cmd_prefix": "rm(",
          "library": "var_list.r",
          "varRefreshCmd": "cat(var_dic_list()) "
        }
      },
      "types_to_exclude": [
        "module",
        "function",
        "builtin_function_or_method",
        "instance",
        "_Feature"
      ],
      "window_display": false
    },
    "colab": {
      "name": "task2_template.ipynb",
      "provenance": [],
      "collapsed_sections": []
    },
    "accelerator": "GPU"
  },
  "cells": [
    {
      "cell_type": "markdown",
      "metadata": {
        "nbpresent": {
          "id": "1d234e3f-af8b-4757-83f3-241b04b7a511"
        },
        "id": "yB9EVc7fFQH9",
        "colab_type": "text"
      },
      "source": [
        "# Class Challenge: Image Classification of COVID-19 X-rays\n",
        "# Task 2 [Total points: 30]"
      ]
    },
    {
      "cell_type": "markdown",
      "metadata": {
        "nbpresent": {
          "id": "b07b9992-b592-4871-9f9a-3b0ae5fa8b5f"
        },
        "id": "TkUBPExcFQH9",
        "colab_type": "text"
      },
      "source": [
        "## Setup\n",
        "\n",
        "* This assignment involves the following packages: 'matplotlib', 'numpy', and 'sklearn'. \n",
        "\n",
        "* If you are using conda, use the following commands to install the above packages:<br>\n",
        "```shell\n",
        "conda install matplotlib\n",
        "conda install numpy\n",
        "conda install -c anaconda scikit-learn\n",
        "```\n",
        "\n",
        "* If you are using pip, use use the following commands to install the above packages: <br> \n",
        "```shell\n",
        "pip install matplotlib\n",
        "pip install numpy\n",
        "pip install sklearn\n",
        "```"
      ]
    },
    {
      "cell_type": "markdown",
      "metadata": {
        "nbpresent": {
          "id": "5516f610-f00c-43c3-bf19-4cf7ab9c089f"
        },
        "id": "MDIn-E_dFQH-",
        "colab_type": "text"
      },
      "source": [
        "## Data\n",
        "\n",
        "Please download the data using the following link: [COVID-19](https://drive.google.com/file/d/1Y88tgqpQ1Pjko_7rntcPowOJs_QNOrJ-/view). \n",
        "\n",
        "* After downloading 'Covid_Data_GradientCrescent.zip', unzip the file and you should see the following data structure:\n",
        "\n",
        "\n",
        "|--all<br>\n",
        "|--------train<br>\n",
        "|--------test<br>\n",
        "|--two<br>\n",
        "|--------train<br>\n",
        "|--------test<br>\n",
        "\n",
        "\n",
        "* Put the 'all' folder, the 'two' folder and this python notebook in the **same directory** so that the following code can correctly locate the data.  \n",
        "\n"
      ]
    },
    {
      "cell_type": "markdown",
      "metadata": {
        "nbpresent": {
          "id": "66140980-2aa4-457f-b1df-74c10c234cc2"
        },
        "id": "NShc5yheFQH_",
        "colab_type": "text"
      },
      "source": [
        "## [20 points] Multi-class Classification"
      ]
    },
    {
      "cell_type": "code",
      "metadata": {
        "id": "eqGxCoN1Fd5X",
        "colab_type": "code",
        "outputId": "278177f7-a45d-4e11-a059-76ff8c93e653",
        "colab": {
          "base_uri": "https://localhost:8080/",
          "height": 122
        }
      },
      "source": [
        "from google.colab import drive\n",
        "drive.mount('/content/drive')"
      ],
      "execution_count": 1,
      "outputs": [
        {
          "output_type": "stream",
          "text": [
            "Go to this URL in a browser: https://accounts.google.com/o/oauth2/auth?client_id=947318989803-6bn6qk8qdgf4n4g3pfee6491hc0brc4i.apps.googleusercontent.com&redirect_uri=urn%3aietf%3awg%3aoauth%3a2.0%3aoob&response_type=code&scope=email%20https%3a%2f%2fwww.googleapis.com%2fauth%2fdocs.test%20https%3a%2f%2fwww.googleapis.com%2fauth%2fdrive%20https%3a%2f%2fwww.googleapis.com%2fauth%2fdrive.photos.readonly%20https%3a%2f%2fwww.googleapis.com%2fauth%2fpeopleapi.readonly\n",
            "\n",
            "Enter your authorization code:\n",
            "··········\n",
            "Mounted at /content/drive\n"
          ],
          "name": "stdout"
        }
      ]
    },
    {
      "cell_type": "code",
      "metadata": {
        "id": "cCNUoxa2Duzd",
        "colab_type": "code",
        "colab": {
          "base_uri": "https://localhost:8080/",
          "height": 34
        },
        "outputId": "a317a7a7-cf9a-4aa0-e5cb-f884b88185e2"
      },
      "source": [
        "%tensorflow_version 2.x\n",
        "import tensorflow as tf\n",
        "device_name = tf.test.gpu_device_name()\n",
        "if device_name != '/device:GPU:0':\n",
        "  raise SystemError('GPU device not found')\n",
        "print('Found GPU at: {}'.format(device_name))"
      ],
      "execution_count": 2,
      "outputs": [
        {
          "output_type": "stream",
          "text": [
            "Found GPU at: /device:GPU:0\n"
          ],
          "name": "stdout"
        }
      ]
    },
    {
      "cell_type": "code",
      "metadata": {
        "nbpresent": {
          "id": "5e05f980-3d14-4367-b3d1-664249145b13"
        },
        "scrolled": true,
        "id": "5Y4lOhacFQH_",
        "colab_type": "code",
        "outputId": "3ff2363f-b0db-4bfa-83de-ab1c8b0e3ef8",
        "colab": {
          "base_uri": "https://localhost:8080/",
          "height": 34
        }
      },
      "source": [
        "import os\n",
        "import numpy as np\n",
        "import matplotlib.pyplot as plt\n",
        "\n",
        "os.environ['OMP_NUM_THREADS'] = '1'\n",
        "os.environ['CUDA_VISIBLE_DEVICES'] = '-1'\n",
        "tf.__version__"
      ],
      "execution_count": 3,
      "outputs": [
        {
          "output_type": "execute_result",
          "data": {
            "text/plain": [
              "'2.2.0-rc3'"
            ]
          },
          "metadata": {
            "tags": []
          },
          "execution_count": 3
        }
      ]
    },
    {
      "cell_type": "code",
      "metadata": {
        "id": "NLrtw9zDGEvd",
        "colab_type": "code",
        "colab": {
          "base_uri": "https://localhost:8080/",
          "height": 34
        },
        "outputId": "429a1549-fe3a-44d3-9d08-6068442463ee"
      },
      "source": [
        "from tensorflow.keras.preprocessing.image import ImageDataGenerator\n",
        "from tensorflow.keras.applications import VGG16\n",
        "from tensorflow.keras.applications import ResNet50\n",
        "from tensorflow.keras.applications.inception_v3 import InceptionV3\n",
        "from tensorflow.keras.applications.inception_resnet_v2 import InceptionResNetV2\n",
        "from tensorflow.keras.layers import AveragePooling2D\n",
        "from tensorflow.keras.layers import Dropout\n",
        "from tensorflow.keras.layers import Flatten\n",
        "from tensorflow.keras.layers import Dense\n",
        "from tensorflow.keras.layers import Input\n",
        "from tensorflow.keras.models import Model\n",
        "from tensorflow.keras.optimizers import Adam\n",
        "from tensorflow.keras.utils import to_categorical\n",
        "from keras import regularizers\n",
        "from sklearn.preprocessing import LabelBinarizer\n",
        "from sklearn.model_selection import train_test_split\n",
        "from sklearn.metrics import classification_report\n",
        "from sklearn.metrics import confusion_matrix\n",
        "from imutils import paths\n",
        "import matplotlib.pyplot as plt\n",
        "import numpy as np\n",
        "import argparse\n",
        "import cv2"
      ],
      "execution_count": 4,
      "outputs": [
        {
          "output_type": "stream",
          "text": [
            "Using TensorFlow backend.\n"
          ],
          "name": "stderr"
        }
      ]
    },
    {
      "cell_type": "markdown",
      "metadata": {
        "nbpresent": {
          "id": "66140980-2aa4-457f-b1df-74c10c234cc2"
        },
        "id": "b0qoGAxiFQIC",
        "colab_type": "text"
      },
      "source": [
        "#### Load Image Data"
      ]
    },
    {
      "cell_type": "code",
      "metadata": {
        "nbpresent": {
          "id": "58317664-8da3-4283-b3e5-35721687e7ab"
        },
        "id": "mpRmZDDfFQID",
        "colab_type": "code",
        "colab": {}
      },
      "source": [
        "DATA_LIST = os.listdir('/content/drive/My Drive/ML Class Challenge/Covid_Data_GradientCrescent/all/train')\n",
        "DATASET_PATH  = '/content/drive/My Drive/ML Class Challenge/Covid_Data_GradientCrescent/all/train'\n",
        "TEST_DIR =  '/content/drive/My Drive/ML Class Challenge/Covid_Data_GradientCrescent/all/test'\n",
        "IMAGE_SIZE    = (224, 224)\n",
        "NUM_CLASSES   = len(DATA_LIST)\n",
        "BATCH_SIZE    = 10  # try reducing batch size or freeze more layers if your GPU runs out of memory\n",
        "NUM_EPOCHS    = 100\n",
        "LEARNING_RATE = 0.0001 # start off with high rate first 0.001 and experiment with reducing it gradually "
      ],
      "execution_count": 0,
      "outputs": []
    },
    {
      "cell_type": "markdown",
      "metadata": {
        "nbpresent": {
          "id": "66140980-2aa4-457f-b1df-74c10c234cc2"
        },
        "id": "t8nlLvi7FQIF",
        "colab_type": "text"
      },
      "source": [
        "#### Generate Training and Validation Batches"
      ]
    },
    {
      "cell_type": "code",
      "metadata": {
        "nbpresent": {
          "id": "71760e29-2b08-4259-93f1-ebe68cd74a6d"
        },
        "id": "ShwsER26FQIG",
        "colab_type": "code",
        "outputId": "16e428c3-9908-46ca-dc23-9a59e3cc16e4",
        "colab": {
          "base_uri": "https://localhost:8080/",
          "height": 105
        }
      },
      "source": [
        "train_datagen = ImageDataGenerator(rescale=1./255,rotation_range=50,featurewise_center = True,\n",
        "                                   featurewise_std_normalization = True,width_shift_range=0.2,\n",
        "                                   height_shift_range=0.2,shear_range=0.25,zoom_range=0.1,\n",
        "                                   zca_whitening = True,channel_shift_range = 20,\n",
        "                                   horizontal_flip = True,vertical_flip = True,\n",
        "                                   validation_split = 0.2,fill_mode='constant')\n",
        "\n",
        "\n",
        "train_batches = train_datagen.flow_from_directory(DATASET_PATH,target_size=IMAGE_SIZE,\n",
        "                                                  shuffle=True,batch_size=BATCH_SIZE,\n",
        "                                                  subset = \"training\",seed=42,\n",
        "                                                  class_mode=\"categorical\")\n",
        "\n",
        "valid_batches = train_datagen.flow_from_directory(DATASET_PATH,target_size=IMAGE_SIZE,\n",
        "                                                  shuffle=True,batch_size=BATCH_SIZE,\n",
        "                                                  subset = \"validation\",\n",
        "                                                  seed=42,class_mode=\"categorical\")"
      ],
      "execution_count": 33,
      "outputs": [
        {
          "output_type": "stream",
          "text": [
            "/usr/local/lib/python3.6/dist-packages/keras_preprocessing/image/image_data_generator.py:341: UserWarning: This ImageDataGenerator specifies `zca_whitening` which overrides setting of`featurewise_std_normalization`.\n",
            "  warnings.warn('This ImageDataGenerator specifies '\n"
          ],
          "name": "stderr"
        },
        {
          "output_type": "stream",
          "text": [
            "Found 216 images belonging to 4 classes.\n",
            "Found 54 images belonging to 4 classes.\n"
          ],
          "name": "stdout"
        }
      ]
    },
    {
      "cell_type": "markdown",
      "metadata": {
        "nbpresent": {
          "id": "66140980-2aa4-457f-b1df-74c10c234cc2"
        },
        "id": "9ELh-ZTfFQII",
        "colab_type": "text"
      },
      "source": [
        "#### [10 points] Build Model\n",
        "Hint: Starting from a pre-trained model typically helps performance on a new task, e.g. starting with weights obtained by training on ImageNet. "
      ]
    },
    {
      "cell_type": "code",
      "metadata": {
        "nbpresent": {
          "id": "5c52eeb2-1092-4d45-9e16-02219c82cb5e"
        },
        "id": "1yBXm8tPFQII",
        "colab_type": "code",
        "outputId": "0d661b93-c92a-4340-ee8a-53dc70736dc4",
        "colab": {
          "base_uri": "https://localhost:8080/",
          "height": 323
        }
      },
      "source": [
        "# raise NotImplementedError(\"Build your model based on an architecture of your choice \"\n",
        "#                           \"A sample model summary is shown below\")\n",
        "\n",
        "model = tf.keras.models.Sequential()\n",
        "\n",
        "model.add(VGG16(weights=\"imagenet\", include_top=False, input_shape=(224,224,3)))\n",
        "model.add(Flatten(name=\"flatten\"))\n",
        "model.add(Dense(512, activation=\"relu\",bias_regularizer=regularizers.l2(0.01)))\n",
        "model.add(Dropout(0.25))\n",
        "model.add(Dense(4, activation=\"softmax\"))\n",
        "\n",
        "model.layers[0].trainable=False\n",
        "\n",
        "model.summary()"
      ],
      "execution_count": 52,
      "outputs": [
        {
          "output_type": "stream",
          "text": [
            "Model: \"sequential_3\"\n",
            "_________________________________________________________________\n",
            "Layer (type)                 Output Shape              Param #   \n",
            "=================================================================\n",
            "vgg16 (Model)                (None, 7, 7, 512)         14714688  \n",
            "_________________________________________________________________\n",
            "flatten (Flatten)            (None, 25088)             0         \n",
            "_________________________________________________________________\n",
            "dense_5 (Dense)              (None, 512)               12845568  \n",
            "_________________________________________________________________\n",
            "dropout_3 (Dropout)          (None, 512)               0         \n",
            "_________________________________________________________________\n",
            "dense_6 (Dense)              (None, 4)                 2052      \n",
            "=================================================================\n",
            "Total params: 27,562,308\n",
            "Trainable params: 12,847,620\n",
            "Non-trainable params: 14,714,688\n",
            "_________________________________________________________________\n"
          ],
          "name": "stdout"
        }
      ]
    },
    {
      "cell_type": "markdown",
      "metadata": {
        "nbpresent": {
          "id": "66140980-2aa4-457f-b1df-74c10c234cc2"
        },
        "id": "J9w1vjwBFQIL",
        "colab_type": "text"
      },
      "source": [
        "#### [5 points] Train Model"
      ]
    },
    {
      "cell_type": "code",
      "metadata": {
        "nbpresent": {
          "id": "cdb90d24-6a23-4969-8138-f37e7050062d"
        },
        "id": "YYjrfv6tFQIL",
        "colab_type": "code",
        "outputId": "5b460fc9-e04e-4303-bdb9-685a6ea74aec",
        "colab": {
          "base_uri": "https://localhost:8080/",
          "height": 1000
        }
      },
      "source": [
        "#FIT MODEL\n",
        "print(len(train_batches))\n",
        "print(len(valid_batches))\n",
        "\n",
        "STEP_SIZE_TRAIN=train_batches.n//train_batches.batch_size\n",
        "STEP_SIZE_VALID=valid_batches.n//valid_batches.batch_size\n",
        "\n",
        "# raise NotImplementedError(\"Use the model.fit function to train your network\")\n",
        "model.compile(optimizer='adam', loss='categorical_crossentropy', metrics=['accuracy'])\n",
        "history = model.fit(x=train_batches,epochs=NUM_EPOCHS,batch_size=BATCH_SIZE, steps_per_epoch=STEP_SIZE_TRAIN, validation_data=valid_batches, \n",
        "          validation_batch_size=BATCH_SIZE, validation_steps=STEP_SIZE_VALID)"
      ],
      "execution_count": 53,
      "outputs": [
        {
          "output_type": "stream",
          "text": [
            "22\n",
            "6\n"
          ],
          "name": "stdout"
        },
        {
          "output_type": "stream",
          "text": [
            "/usr/local/lib/python3.6/dist-packages/keras_preprocessing/image/image_data_generator.py:716: UserWarning: This ImageDataGenerator specifies `featurewise_center`, but it hasn't been fit on any training data. Fit it first by calling `.fit(numpy_data)`.\n",
            "  warnings.warn('This ImageDataGenerator specifies '\n",
            "/usr/local/lib/python3.6/dist-packages/keras_preprocessing/image/image_data_generator.py:735: UserWarning: This ImageDataGenerator specifies `zca_whitening`, but it hasn't been fit on any training data. Fit it first by calling `.fit(numpy_data)`.\n",
            "  warnings.warn('This ImageDataGenerator specifies '\n"
          ],
          "name": "stderr"
        },
        {
          "output_type": "stream",
          "text": [
            "Epoch 1/100\n",
            "21/21 [==============================] - 9s 444ms/step - loss: 4.3906 - accuracy: 0.3190 - val_loss: 1.8334 - val_accuracy: 0.3800\n",
            "Epoch 2/100\n",
            "21/21 [==============================] - 9s 434ms/step - loss: 1.9124 - accuracy: 0.5049 - val_loss: 0.9126 - val_accuracy: 0.6400\n",
            "Epoch 3/100\n",
            "21/21 [==============================] - 9s 428ms/step - loss: 1.7645 - accuracy: 0.4854 - val_loss: 1.2538 - val_accuracy: 0.5800\n",
            "Epoch 4/100\n",
            "21/21 [==============================] - 9s 425ms/step - loss: 1.5208 - accuracy: 0.4563 - val_loss: 1.2533 - val_accuracy: 0.4600\n",
            "Epoch 5/100\n",
            "21/21 [==============================] - 9s 421ms/step - loss: 1.0584 - accuracy: 0.5485 - val_loss: 0.8913 - val_accuracy: 0.5600\n",
            "Epoch 6/100\n",
            "21/21 [==============================] - 9s 428ms/step - loss: 0.9443 - accuracy: 0.6359 - val_loss: 0.7445 - val_accuracy: 0.6800\n",
            "Epoch 7/100\n",
            "21/21 [==============================] - 9s 426ms/step - loss: 0.9630 - accuracy: 0.5971 - val_loss: 0.8840 - val_accuracy: 0.6000\n",
            "Epoch 8/100\n",
            "21/21 [==============================] - 9s 419ms/step - loss: 0.8433 - accuracy: 0.6019 - val_loss: 0.8974 - val_accuracy: 0.5200\n",
            "Epoch 9/100\n",
            "21/21 [==============================] - 9s 430ms/step - loss: 0.8527 - accuracy: 0.6262 - val_loss: 0.7681 - val_accuracy: 0.6800\n",
            "Epoch 10/100\n",
            "21/21 [==============================] - 9s 430ms/step - loss: 0.8218 - accuracy: 0.5874 - val_loss: 0.6438 - val_accuracy: 0.7600\n",
            "Epoch 11/100\n",
            "21/21 [==============================] - 9s 448ms/step - loss: 0.8858 - accuracy: 0.6311 - val_loss: 0.6828 - val_accuracy: 0.7200\n",
            "Epoch 12/100\n",
            "21/21 [==============================] - 9s 406ms/step - loss: 0.8061 - accuracy: 0.6311 - val_loss: 0.7021 - val_accuracy: 0.7200\n",
            "Epoch 13/100\n",
            "21/21 [==============================] - 9s 419ms/step - loss: 0.9636 - accuracy: 0.5777 - val_loss: 0.7558 - val_accuracy: 0.6800\n",
            "Epoch 14/100\n",
            "21/21 [==============================] - 9s 441ms/step - loss: 0.7750 - accuracy: 0.6893 - val_loss: 0.7752 - val_accuracy: 0.6200\n",
            "Epoch 15/100\n",
            "21/21 [==============================] - 9s 420ms/step - loss: 0.7628 - accuracy: 0.6699 - val_loss: 0.7337 - val_accuracy: 0.7000\n",
            "Epoch 16/100\n",
            "21/21 [==============================] - 9s 420ms/step - loss: 0.8041 - accuracy: 0.6359 - val_loss: 0.6645 - val_accuracy: 0.6400\n",
            "Epoch 17/100\n",
            "21/21 [==============================] - 9s 435ms/step - loss: 0.7726 - accuracy: 0.6505 - val_loss: 0.8208 - val_accuracy: 0.6400\n",
            "Epoch 18/100\n",
            "21/21 [==============================] - 9s 422ms/step - loss: 0.8422 - accuracy: 0.6796 - val_loss: 0.7907 - val_accuracy: 0.6800\n",
            "Epoch 19/100\n",
            "21/21 [==============================] - 9s 436ms/step - loss: 0.8296 - accuracy: 0.6311 - val_loss: 0.6461 - val_accuracy: 0.7800\n",
            "Epoch 20/100\n",
            "21/21 [==============================] - 9s 416ms/step - loss: 0.7821 - accuracy: 0.6456 - val_loss: 0.6934 - val_accuracy: 0.6000\n",
            "Epoch 21/100\n",
            "21/21 [==============================] - 9s 420ms/step - loss: 0.7422 - accuracy: 0.6505 - val_loss: 0.5866 - val_accuracy: 0.6800\n",
            "Epoch 22/100\n",
            "21/21 [==============================] - 9s 423ms/step - loss: 0.8075 - accuracy: 0.6165 - val_loss: 0.7212 - val_accuracy: 0.6000\n",
            "Epoch 23/100\n",
            "21/21 [==============================] - 9s 430ms/step - loss: 0.7421 - accuracy: 0.7000 - val_loss: 0.8345 - val_accuracy: 0.7000\n",
            "Epoch 24/100\n",
            "21/21 [==============================] - 9s 433ms/step - loss: 0.7957 - accuracy: 0.6699 - val_loss: 0.7170 - val_accuracy: 0.5800\n",
            "Epoch 25/100\n",
            "21/21 [==============================] - 9s 423ms/step - loss: 0.7519 - accuracy: 0.6456 - val_loss: 0.6047 - val_accuracy: 0.7000\n",
            "Epoch 26/100\n",
            "21/21 [==============================] - 9s 419ms/step - loss: 0.8678 - accuracy: 0.6650 - val_loss: 0.7402 - val_accuracy: 0.7000\n",
            "Epoch 27/100\n",
            "21/21 [==============================] - 9s 426ms/step - loss: 0.7830 - accuracy: 0.6893 - val_loss: 0.7979 - val_accuracy: 0.6200\n",
            "Epoch 28/100\n",
            "21/21 [==============================] - 9s 416ms/step - loss: 0.7645 - accuracy: 0.6456 - val_loss: 0.6389 - val_accuracy: 0.7000\n",
            "Epoch 29/100\n",
            "21/21 [==============================] - 9s 427ms/step - loss: 0.7833 - accuracy: 0.6553 - val_loss: 0.6064 - val_accuracy: 0.6600\n",
            "Epoch 30/100\n",
            "21/21 [==============================] - 8s 405ms/step - loss: 0.7954 - accuracy: 0.6408 - val_loss: 0.7020 - val_accuracy: 0.5600\n",
            "Epoch 31/100\n",
            "21/21 [==============================] - 9s 429ms/step - loss: 0.7406 - accuracy: 0.6893 - val_loss: 0.6823 - val_accuracy: 0.7000\n",
            "Epoch 32/100\n",
            "21/21 [==============================] - 9s 443ms/step - loss: 0.7989 - accuracy: 0.6699 - val_loss: 0.6053 - val_accuracy: 0.7200\n",
            "Epoch 33/100\n",
            "21/21 [==============================] - 8s 379ms/step - loss: 0.6368 - accuracy: 0.6990 - val_loss: 0.7871 - val_accuracy: 0.6400\n",
            "Epoch 34/100\n",
            "21/21 [==============================] - 9s 443ms/step - loss: 0.7731 - accuracy: 0.6796 - val_loss: 0.7837 - val_accuracy: 0.5800\n",
            "Epoch 35/100\n",
            "21/21 [==============================] - 9s 427ms/step - loss: 0.7048 - accuracy: 0.6893 - val_loss: 1.0948 - val_accuracy: 0.6000\n",
            "Epoch 36/100\n",
            "21/21 [==============================] - 9s 421ms/step - loss: 0.7365 - accuracy: 0.6650 - val_loss: 0.6063 - val_accuracy: 0.7400\n",
            "Epoch 37/100\n",
            "21/21 [==============================] - 9s 420ms/step - loss: 0.6108 - accuracy: 0.7039 - val_loss: 0.6256 - val_accuracy: 0.6400\n",
            "Epoch 38/100\n",
            "21/21 [==============================] - 9s 409ms/step - loss: 0.7339 - accuracy: 0.6796 - val_loss: 0.5665 - val_accuracy: 0.7400\n",
            "Epoch 39/100\n",
            "21/21 [==============================] - 9s 425ms/step - loss: 0.6459 - accuracy: 0.6990 - val_loss: 0.7349 - val_accuracy: 0.5800\n",
            "Epoch 40/100\n",
            "21/21 [==============================] - 9s 420ms/step - loss: 0.6500 - accuracy: 0.7039 - val_loss: 0.7353 - val_accuracy: 0.6000\n",
            "Epoch 41/100\n",
            "21/21 [==============================] - 9s 424ms/step - loss: 0.6954 - accuracy: 0.6990 - val_loss: 0.6156 - val_accuracy: 0.6400\n",
            "Epoch 42/100\n",
            "21/21 [==============================] - 9s 420ms/step - loss: 0.6219 - accuracy: 0.7476 - val_loss: 0.6141 - val_accuracy: 0.6800\n",
            "Epoch 43/100\n",
            "21/21 [==============================] - 9s 432ms/step - loss: 0.7399 - accuracy: 0.6942 - val_loss: 0.6885 - val_accuracy: 0.6400\n",
            "Epoch 44/100\n",
            "21/21 [==============================] - 9s 422ms/step - loss: 0.6609 - accuracy: 0.7039 - val_loss: 0.7491 - val_accuracy: 0.5800\n",
            "Epoch 45/100\n",
            "21/21 [==============================] - 9s 414ms/step - loss: 0.6783 - accuracy: 0.6857 - val_loss: 0.7675 - val_accuracy: 0.6200\n",
            "Epoch 46/100\n",
            "21/21 [==============================] - 9s 426ms/step - loss: 0.7083 - accuracy: 0.7039 - val_loss: 0.8664 - val_accuracy: 0.6000\n",
            "Epoch 47/100\n",
            "21/21 [==============================] - 9s 419ms/step - loss: 0.7382 - accuracy: 0.6214 - val_loss: 0.5838 - val_accuracy: 0.6200\n",
            "Epoch 48/100\n",
            "21/21 [==============================] - 9s 435ms/step - loss: 0.6690 - accuracy: 0.6796 - val_loss: 0.5575 - val_accuracy: 0.8200\n",
            "Epoch 49/100\n",
            "21/21 [==============================] - 9s 419ms/step - loss: 0.7565 - accuracy: 0.6748 - val_loss: 0.5153 - val_accuracy: 0.8000\n",
            "Epoch 50/100\n",
            "21/21 [==============================] - 9s 436ms/step - loss: 0.6536 - accuracy: 0.6893 - val_loss: 0.6887 - val_accuracy: 0.6000\n",
            "Epoch 51/100\n",
            "21/21 [==============================] - 8s 405ms/step - loss: 0.6378 - accuracy: 0.7379 - val_loss: 0.5775 - val_accuracy: 0.6000\n",
            "Epoch 52/100\n",
            "21/21 [==============================] - 9s 438ms/step - loss: 0.6734 - accuracy: 0.7233 - val_loss: 0.7939 - val_accuracy: 0.7200\n",
            "Epoch 53/100\n",
            "21/21 [==============================] - 9s 434ms/step - loss: 0.6757 - accuracy: 0.6796 - val_loss: 0.7297 - val_accuracy: 0.6400\n",
            "Epoch 54/100\n",
            "21/21 [==============================] - 9s 413ms/step - loss: 0.6928 - accuracy: 0.6602 - val_loss: 0.7606 - val_accuracy: 0.5800\n",
            "Epoch 55/100\n",
            "21/21 [==============================] - 9s 426ms/step - loss: 0.6864 - accuracy: 0.6942 - val_loss: 0.6743 - val_accuracy: 0.6600\n",
            "Epoch 56/100\n",
            "21/21 [==============================] - 9s 425ms/step - loss: 0.7108 - accuracy: 0.6796 - val_loss: 0.6949 - val_accuracy: 0.6800\n",
            "Epoch 57/100\n",
            "21/21 [==============================] - 9s 422ms/step - loss: 0.6533 - accuracy: 0.7233 - val_loss: 0.5339 - val_accuracy: 0.6800\n",
            "Epoch 58/100\n",
            "21/21 [==============================] - 9s 419ms/step - loss: 0.6633 - accuracy: 0.6942 - val_loss: 0.7196 - val_accuracy: 0.6400\n",
            "Epoch 59/100\n",
            "21/21 [==============================] - 9s 423ms/step - loss: 0.6800 - accuracy: 0.7427 - val_loss: 0.6672 - val_accuracy: 0.6800\n",
            "Epoch 60/100\n",
            "21/21 [==============================] - 9s 409ms/step - loss: 0.6776 - accuracy: 0.7233 - val_loss: 0.5744 - val_accuracy: 0.6600\n",
            "Epoch 61/100\n",
            "21/21 [==============================] - 9s 422ms/step - loss: 0.6201 - accuracy: 0.7427 - val_loss: 0.5923 - val_accuracy: 0.6800\n",
            "Epoch 62/100\n",
            "21/21 [==============================] - 9s 420ms/step - loss: 0.6263 - accuracy: 0.7184 - val_loss: 0.7304 - val_accuracy: 0.6400\n",
            "Epoch 63/100\n",
            "21/21 [==============================] - 9s 433ms/step - loss: 0.6872 - accuracy: 0.6699 - val_loss: 0.7625 - val_accuracy: 0.6400\n",
            "Epoch 64/100\n",
            "21/21 [==============================] - 9s 423ms/step - loss: 0.6268 - accuracy: 0.7427 - val_loss: 0.5937 - val_accuracy: 0.7000\n",
            "Epoch 65/100\n",
            "21/21 [==============================] - 9s 430ms/step - loss: 0.6587 - accuracy: 0.7282 - val_loss: 0.5312 - val_accuracy: 0.7200\n",
            "Epoch 66/100\n",
            "21/21 [==============================] - 9s 424ms/step - loss: 0.6751 - accuracy: 0.7039 - val_loss: 0.6332 - val_accuracy: 0.6400\n",
            "Epoch 67/100\n",
            "21/21 [==============================] - 9s 434ms/step - loss: 0.6386 - accuracy: 0.7143 - val_loss: 0.6761 - val_accuracy: 0.7000\n",
            "Epoch 68/100\n",
            "21/21 [==============================] - 9s 426ms/step - loss: 0.6121 - accuracy: 0.7087 - val_loss: 0.6955 - val_accuracy: 0.6400\n",
            "Epoch 69/100\n",
            "21/21 [==============================] - 9s 433ms/step - loss: 0.6496 - accuracy: 0.7136 - val_loss: 0.7071 - val_accuracy: 0.6000\n",
            "Epoch 70/100\n",
            "21/21 [==============================] - 9s 413ms/step - loss: 0.6962 - accuracy: 0.6699 - val_loss: 0.6833 - val_accuracy: 0.6800\n",
            "Epoch 71/100\n",
            "21/21 [==============================] - 9s 426ms/step - loss: 0.6534 - accuracy: 0.7282 - val_loss: 0.7408 - val_accuracy: 0.5800\n",
            "Epoch 72/100\n",
            "21/21 [==============================] - 9s 423ms/step - loss: 0.6017 - accuracy: 0.7282 - val_loss: 0.5121 - val_accuracy: 0.7800\n",
            "Epoch 73/100\n",
            "21/21 [==============================] - 9s 420ms/step - loss: 0.5994 - accuracy: 0.7379 - val_loss: 0.5576 - val_accuracy: 0.6800\n",
            "Epoch 74/100\n",
            "21/21 [==============================] - 9s 440ms/step - loss: 0.6114 - accuracy: 0.6990 - val_loss: 0.6899 - val_accuracy: 0.6600\n",
            "Epoch 75/100\n",
            "21/21 [==============================] - 8s 398ms/step - loss: 0.6301 - accuracy: 0.6942 - val_loss: 0.6863 - val_accuracy: 0.7200\n",
            "Epoch 76/100\n",
            "21/21 [==============================] - 9s 434ms/step - loss: 0.7440 - accuracy: 0.6699 - val_loss: 0.5911 - val_accuracy: 0.7200\n",
            "Epoch 77/100\n",
            "21/21 [==============================] - 9s 438ms/step - loss: 0.6676 - accuracy: 0.7039 - val_loss: 0.5223 - val_accuracy: 0.8200\n",
            "Epoch 78/100\n",
            "21/21 [==============================] - 9s 411ms/step - loss: 0.6223 - accuracy: 0.7282 - val_loss: 0.6102 - val_accuracy: 0.6200\n",
            "Epoch 79/100\n",
            "21/21 [==============================] - 9s 428ms/step - loss: 0.6825 - accuracy: 0.7039 - val_loss: 0.5617 - val_accuracy: 0.7400\n",
            "Epoch 80/100\n",
            "21/21 [==============================] - 9s 437ms/step - loss: 0.6758 - accuracy: 0.6845 - val_loss: 0.4346 - val_accuracy: 0.8000\n",
            "Epoch 81/100\n",
            "21/21 [==============================] - 9s 420ms/step - loss: 0.6982 - accuracy: 0.6942 - val_loss: 0.5735 - val_accuracy: 0.7200\n",
            "Epoch 82/100\n",
            "21/21 [==============================] - 9s 409ms/step - loss: 0.5311 - accuracy: 0.7913 - val_loss: 0.7957 - val_accuracy: 0.6800\n",
            "Epoch 83/100\n",
            "21/21 [==============================] - 9s 428ms/step - loss: 0.5837 - accuracy: 0.7476 - val_loss: 0.7527 - val_accuracy: 0.6800\n",
            "Epoch 84/100\n",
            "21/21 [==============================] - 9s 419ms/step - loss: 0.6273 - accuracy: 0.7282 - val_loss: 0.6221 - val_accuracy: 0.7800\n",
            "Epoch 85/100\n",
            "21/21 [==============================] - 9s 426ms/step - loss: 0.6562 - accuracy: 0.7282 - val_loss: 0.5090 - val_accuracy: 0.7200\n",
            "Epoch 86/100\n",
            "21/21 [==============================] - 9s 423ms/step - loss: 0.6692 - accuracy: 0.7087 - val_loss: 0.6112 - val_accuracy: 0.7200\n",
            "Epoch 87/100\n",
            "21/21 [==============================] - 9s 424ms/step - loss: 0.6249 - accuracy: 0.7621 - val_loss: 0.5240 - val_accuracy: 0.7000\n",
            "Epoch 88/100\n",
            "21/21 [==============================] - 9s 421ms/step - loss: 0.6550 - accuracy: 0.7184 - val_loss: 0.6733 - val_accuracy: 0.6400\n",
            "Epoch 89/100\n",
            "21/21 [==============================] - 9s 422ms/step - loss: 0.7020 - accuracy: 0.7190 - val_loss: 0.6353 - val_accuracy: 0.6000\n",
            "Epoch 90/100\n",
            "21/21 [==============================] - 9s 434ms/step - loss: 0.5776 - accuracy: 0.7718 - val_loss: 0.6811 - val_accuracy: 0.6800\n",
            "Epoch 91/100\n",
            "21/21 [==============================] - 9s 425ms/step - loss: 0.6464 - accuracy: 0.6990 - val_loss: 0.8507 - val_accuracy: 0.5600\n",
            "Epoch 92/100\n",
            "21/21 [==============================] - 9s 412ms/step - loss: 0.6950 - accuracy: 0.6990 - val_loss: 0.6078 - val_accuracy: 0.7200\n",
            "Epoch 93/100\n",
            "21/21 [==============================] - 9s 423ms/step - loss: 0.6597 - accuracy: 0.6845 - val_loss: 0.6552 - val_accuracy: 0.6600\n",
            "Epoch 94/100\n",
            "21/21 [==============================] - 9s 431ms/step - loss: 0.6352 - accuracy: 0.7573 - val_loss: 0.7291 - val_accuracy: 0.7000\n",
            "Epoch 95/100\n",
            "21/21 [==============================] - 9s 418ms/step - loss: 0.5455 - accuracy: 0.7621 - val_loss: 0.5385 - val_accuracy: 0.7400\n",
            "Epoch 96/100\n",
            "21/21 [==============================] - 9s 416ms/step - loss: 0.5613 - accuracy: 0.7621 - val_loss: 0.6556 - val_accuracy: 0.6800\n",
            "Epoch 97/100\n",
            "21/21 [==============================] - 9s 430ms/step - loss: 0.6262 - accuracy: 0.6893 - val_loss: 0.5371 - val_accuracy: 0.7400\n",
            "Epoch 98/100\n",
            "21/21 [==============================] - 9s 419ms/step - loss: 0.5599 - accuracy: 0.7427 - val_loss: 1.2400 - val_accuracy: 0.5200\n",
            "Epoch 99/100\n",
            "21/21 [==============================] - 9s 430ms/step - loss: 0.6472 - accuracy: 0.6990 - val_loss: 0.6865 - val_accuracy: 0.6600\n",
            "Epoch 100/100\n",
            "21/21 [==============================] - 9s 417ms/step - loss: 0.5857 - accuracy: 0.7573 - val_loss: 0.6698 - val_accuracy: 0.6600\n"
          ],
          "name": "stdout"
        }
      ]
    },
    {
      "cell_type": "markdown",
      "metadata": {
        "nbpresent": {
          "id": "66140980-2aa4-457f-b1df-74c10c234cc2"
        },
        "id": "69auLjLMFQIO",
        "colab_type": "text"
      },
      "source": [
        "#### [5 points] Plot Accuracy and Loss During Training"
      ]
    },
    {
      "cell_type": "code",
      "metadata": {
        "nbpresent": {
          "id": "ff342098-784a-4e20-ac34-b74ca8ebe839"
        },
        "id": "v2Pg7sAPFQIO",
        "colab_type": "code",
        "outputId": "f85a5876-f2d5-49ee-a0bd-75c04f63f730",
        "colab": {
          "base_uri": "https://localhost:8080/",
          "height": 295
        }
      },
      "source": [
        "import matplotlib.pyplot as plt\n",
        "\n",
        "# raise NotImplementedError(\"Plot the accuracy and the loss during training\")\n",
        "\n",
        "fig, (ax) = plt.subplots(1, 2)\n",
        "\n",
        "c=0\n",
        "\n",
        "for i in ['accuracy', 'loss']:\n",
        "  ax[c].plot(history.history[i], label='Train_'+i)\n",
        "  ax[c].plot(history.history['val_'+i], label='Test_'+i)\n",
        "  ax[c].set_xlabel('Epoch')\n",
        "  ax[c].set_ylabel(i)\n",
        "  if i=='accuracy':\n",
        "    ax[c].legend(loc='lower right')\n",
        "  else:\n",
        "    ax[c].legend(loc='upper right')\n",
        "\n",
        "  ax[c].set_title(str(i)+' over '+str(NUM_EPOCHS)+' epochs')\n",
        "  c+=1\n",
        "\n",
        "plt.show()"
      ],
      "execution_count": 55,
      "outputs": [
        {
          "output_type": "display_data",
          "data": {
            "image/png": "[encoded data removed]",
            "text/plain": [
              "<Figure size 432x288 with 2 Axes>"
            ]
          },
          "metadata": {
            "tags": [],
            "needs_background": "light"
          }
        }
      ]
    },
    {
      "cell_type": "markdown",
      "metadata": {
        "nbpresent": {
          "id": "66140980-2aa4-457f-b1df-74c10c234cc2"
        },
        "id": "ASNBhFJXFQIR",
        "colab_type": "text"
      },
      "source": [
        "#### Testing Model"
      ]
    },
    {
      "cell_type": "code",
      "metadata": {
        "id": "8k-7VnS7FQIR",
        "colab_type": "code",
        "outputId": "b5b02e74-f31b-46e2-c790-b0f8a1598e43",
        "colab": {
          "base_uri": "https://localhost:8080/",
          "height": 102
        }
      },
      "source": [
        "test_datagen = ImageDataGenerator(rescale=1. / 255)\n",
        "\n",
        "eval_generator = test_datagen.flow_from_directory(TEST_DIR,target_size=IMAGE_SIZE,\n",
        "                                                  batch_size=1,shuffle=True,seed=42,class_mode=\"categorical\")\n",
        "eval_generator.reset()\n",
        "print(len(eval_generator))\n",
        "x = model.evaluate_generator(eval_generator,steps = np.ceil(len(eval_generator)),\n",
        "                           use_multiprocessing = False,verbose = 1,workers=1)\n",
        "print('Test loss:' , x[0])\n",
        "print('Test accuracy:',x[1])"
      ],
      "execution_count": 54,
      "outputs": [
        {
          "output_type": "stream",
          "text": [
            "Found 36 images belonging to 4 classes.\n",
            "36\n",
            "36/36 [==============================] - 1s 36ms/step - loss: 0.7279 - accuracy: 0.7778\n",
            "Test loss: 0.7279273867607117\n",
            "Test accuracy: 0.7777777910232544\n"
          ],
          "name": "stdout"
        }
      ]
    },
    {
      "cell_type": "markdown",
      "metadata": {
        "nbpresent": {
          "id": "66140980-2aa4-457f-b1df-74c10c234cc2"
        },
        "id": "1iPhijndFQIT",
        "colab_type": "text"
      },
      "source": [
        "## [10 points] TSNE Plot\n",
        "t-Distributed Stochastic Neighbor Embedding (t-SNE) is a widely used technique for dimensionality reduction that is particularly well suited for the visualization of high-dimensional datasets. After training is complete, extract features from a specific deep layer of your choice, use t-SNE to reduce the dimensionality of your extracted features to 2 dimensions and plot the resulting 2D features."
      ]
    },
    {
      "cell_type": "code",
      "metadata": {
        "id": "l_vw0CPDFQIU",
        "colab_type": "code",
        "colab": {
          "base_uri": "https://localhost:8080/",
          "height": 68
        },
        "outputId": "9cb80aee-6fb6-4867-fed7-be25b23a9e3d"
      },
      "source": [
        "from sklearn.manifold import TSNE\n",
        "\n",
        "intermediate_layer_model = Model(inputs=model.input,\n",
        "                                        outputs=model.get_layer('dense_5').output)\n",
        "\n",
        "tsne_eval_generator = test_datagen.flow_from_directory(DATASET_PATH,target_size=IMAGE_SIZE,\n",
        "                                                  batch_size=1,shuffle=False,seed=42,class_mode=\"categorical\")\n",
        "\n",
        "# raise NotImplementedError(\"Extract features from the tsne_data_generator and fit a t-SNE model for the features,\"\n",
        "#                           \"and plot the resulting 2D features of the four classes.\")\n",
        "activations = intermediate_layer_model.predict(tsne_eval_generator, 1, verbose=1, steps = 270)\n",
        "tsne = TSNE(n_components=2,init='random', random_state=53)\n",
        "print(activations.shape)\n",
        "tsne_obj = tsne.fit_transform(activations)"
      ],
      "execution_count": 58,
      "outputs": [
        {
          "output_type": "stream",
          "text": [
            "Found 270 images belonging to 4 classes.\n",
            "270/270 [==============================] - 9s 33ms/step\n",
            "(270, 512)\n"
          ],
          "name": "stdout"
        }
      ]
    },
    {
      "cell_type": "code",
      "metadata": {
        "id": "Gl2blER4KFe7",
        "colab_type": "code",
        "colab": {
          "base_uri": "https://localhost:8080/",
          "height": 315
        },
        "outputId": "cfbca44c-b7df-48ac-84ca-9d58971bdbf4"
      },
      "source": [
        "print(tsne_obj.shape)\n",
        "colors = ['blue', 'orange', 'green', 'red']\n",
        "c=[colors[i] for i in tsne_eval_generator.labels]\n",
        "labels = ['COVID-19','Normal', 'Pneumonia_bac', 'Pneumonia_vir']\n",
        "l=[labels[i] for i in tsne_eval_generator.labels]\n",
        "\n",
        "x1 = []\n",
        "y1 = []\n",
        "\n",
        "for i in range(len(labels)):\n",
        "  x2 = []\n",
        "  y2 = []\n",
        "  for j in range(tsne_obj.shape[0]):\n",
        "    if(tsne_eval_generator.labels[j]==i):\n",
        "      x2.append(tsne_obj[j,0])\n",
        "      y2.append(tsne_obj[j,1])\n",
        "  x1.append(x2)\n",
        "  y1.append(y2)\n",
        "\n",
        "for i in range(len(labels)):\n",
        "  plt.scatter(x1[i][:], y1[i],c = colors[i],label = labels[i])\n",
        "\n",
        "plt.title(\"Multinomial X-Ray Chest Image Classification\")\n",
        "plt.legend()"
      ],
      "execution_count": 59,
      "outputs": [
        {
          "output_type": "stream",
          "text": [
            "(270, 2)\n"
          ],
          "name": "stdout"
        },
        {
          "output_type": "execute_result",
          "data": {
            "text/plain": [
              "<matplotlib.legend.Legend at 0x7f8bb4023be0>"
            ]
          },
          "metadata": {
            "tags": []
          },
          "execution_count": 59
        },
        {
          "output_type": "display_data",
          "data": {
            "image/png": "[encoded data removed]",
            "text/plain": [
              "<Figure size 432x288 with 1 Axes>"
            ]
          },
          "metadata": {
            "tags": [],
            "needs_background": "light"
          }
        }
      ]
    },
    {
      "cell_type": "code",
      "metadata": {
        "id": "Cbl-9Lp-nYzm",
        "colab_type": "code",
        "colab": {
          "base_uri": "https://localhost:8080/",
          "height": 377
        },
        "outputId": "86ed2899-7edc-4b49-e659-232056ad18aa"
      },
      "source": [
        "# raise NotImplementedError(\"Build your model based on an architecture of your choice \"\n",
        "#                           \"A sample model summary is shown below\")\n",
        "\n",
        "model2 = tf.keras.models.Sequential()\n",
        "model2.add(InceptionResNetV2(weights=\"imagenet\", include_top=False, input_shape=(224,224,3)))\n",
        "model2.add(Flatten(name=\"flatten\"))\n",
        "model2.add(Dense(512, activation=\"relu\", name = 'dense_resnet_1', bias_regularizer=regularizers.l2(0.01)))\n",
        "model2.add(Dropout(0.30))\n",
        "model2.add(Dense(4, activation=\"softmax\"))\n",
        "model2.summary()"
      ],
      "execution_count": 7,
      "outputs": [
        {
          "output_type": "stream",
          "text": [
            "Downloading data from https://storage.googleapis.com/tensorflow/keras-applications/inception_resnet_v2/inception_resnet_v2_weights_tf_dim_ordering_tf_kernels_notop.h5\n",
            "219062272/219055592 [==============================] - 2s 0us/step\n",
            "Model: \"sequential\"\n",
            "_________________________________________________________________\n",
            "Layer (type)                 Output Shape              Param #   \n",
            "=================================================================\n",
            "inception_resnet_v2 (Model)  (None, 5, 5, 1536)        54336736  \n",
            "_________________________________________________________________\n",
            "flatten (Flatten)            (None, 38400)             0         \n",
            "_________________________________________________________________\n",
            "dense_resnet_1 (Dense)       (None, 512)               19661312  \n",
            "_________________________________________________________________\n",
            "dropout (Dropout)            (None, 512)               0         \n",
            "_________________________________________________________________\n",
            "dense (Dense)                (None, 4)                 2052      \n",
            "=================================================================\n",
            "Total params: 74,000,100\n",
            "Trainable params: 73,939,556\n",
            "Non-trainable params: 60,544\n",
            "_________________________________________________________________\n"
          ],
          "name": "stdout"
        }
      ]
    },
    {
      "cell_type": "code",
      "metadata": {
        "id": "B44KJkCfguhL",
        "colab_type": "code",
        "colab": {
          "base_uri": "https://localhost:8080/",
          "height": 1000
        },
        "outputId": "60562468-a363-4b0c-caa1-2dbfb749ab86"
      },
      "source": [
        "#FIT MODEL\n",
        "print(len(train_batches))\n",
        "print(len(valid_batches))\n",
        "\n",
        "STEP_SIZE_TRAIN=train_batches.n//train_batches.batch_size\n",
        "STEP_SIZE_VALID=valid_batches.n//valid_batches.batch_size\n",
        "\n",
        "# raise NotImplementedError(\"Use the model.fit function to train your network\")\n",
        "model2.compile(optimizer='adam', loss='categorical_crossentropy', metrics=['accuracy'])\n",
        "history2 = model2.fit(x=train_batches,epochs=NUM_EPOCHS,batch_size=BATCH_SIZE, steps_per_epoch=STEP_SIZE_TRAIN, validation_data=valid_batches, \n",
        "          validation_batch_size=BATCH_SIZE, validation_steps=STEP_SIZE_VALID)"
      ],
      "execution_count": 8,
      "outputs": [
        {
          "output_type": "stream",
          "text": [
            "22\n",
            "6\n"
          ],
          "name": "stdout"
        },
        {
          "output_type": "stream",
          "text": [
            "/usr/local/lib/python3.6/dist-packages/keras_preprocessing/image/image_data_generator.py:716: UserWarning: This ImageDataGenerator specifies `featurewise_center`, but it hasn't been fit on any training data. Fit it first by calling `.fit(numpy_data)`.\n",
            "  warnings.warn('This ImageDataGenerator specifies '\n",
            "/usr/local/lib/python3.6/dist-packages/keras_preprocessing/image/image_data_generator.py:735: UserWarning: This ImageDataGenerator specifies `zca_whitening`, but it hasn't been fit on any training data. Fit it first by calling `.fit(numpy_data)`.\n",
            "  warnings.warn('This ImageDataGenerator specifies '\n"
          ],
          "name": "stderr"
        },
        {
          "output_type": "stream",
          "text": [
            "Epoch 1/100\n",
            "21/21 [==============================] - 163s 8s/step - loss: 11.9154 - accuracy: 0.2667 - val_loss: 2531.8843 - val_accuracy: 0.1600\n",
            "Epoch 2/100\n",
            "21/21 [==============================] - 13s 626ms/step - loss: 2.8187 - accuracy: 0.3252 - val_loss: 18.0100 - val_accuracy: 0.2400\n",
            "Epoch 3/100\n",
            "21/21 [==============================] - 13s 629ms/step - loss: 2.5706 - accuracy: 0.2621 - val_loss: 10268.5215 - val_accuracy: 0.2600\n",
            "Epoch 4/100\n",
            "21/21 [==============================] - 13s 624ms/step - loss: 2.6146 - accuracy: 0.2184 - val_loss: 3974.1536 - val_accuracy: 0.2200\n",
            "Epoch 5/100\n",
            "21/21 [==============================] - 13s 627ms/step - loss: 1.6040 - accuracy: 0.3641 - val_loss: 57.7388 - val_accuracy: 0.3000\n",
            "Epoch 6/100\n",
            "21/21 [==============================] - 13s 625ms/step - loss: 1.3769 - accuracy: 0.3252 - val_loss: 10.5625 - val_accuracy: 0.3200\n",
            "Epoch 7/100\n",
            "21/21 [==============================] - 13s 616ms/step - loss: 1.2947 - accuracy: 0.3738 - val_loss: 145.2776 - val_accuracy: 0.2000\n",
            "Epoch 8/100\n",
            "21/21 [==============================] - 13s 611ms/step - loss: 1.1863 - accuracy: 0.4563 - val_loss: 8.2384 - val_accuracy: 0.3400\n",
            "Epoch 9/100\n",
            "21/21 [==============================] - 13s 627ms/step - loss: 1.0967 - accuracy: 0.5388 - val_loss: 39.2185 - val_accuracy: 0.3600\n",
            "Epoch 10/100\n",
            "21/21 [==============================] - 13s 623ms/step - loss: 1.1220 - accuracy: 0.5437 - val_loss: 8.1743 - val_accuracy: 0.4200\n",
            "Epoch 11/100\n",
            "21/21 [==============================] - 13s 619ms/step - loss: 0.9598 - accuracy: 0.5631 - val_loss: 0.9777 - val_accuracy: 0.5000\n",
            "Epoch 12/100\n",
            "21/21 [==============================] - 13s 616ms/step - loss: 1.1096 - accuracy: 0.5874 - val_loss: 0.9888 - val_accuracy: 0.5200\n",
            "Epoch 13/100\n",
            "21/21 [==============================] - 13s 618ms/step - loss: 1.3938 - accuracy: 0.5825 - val_loss: 1.0026 - val_accuracy: 0.5600\n",
            "Epoch 14/100\n",
            "21/21 [==============================] - 13s 629ms/step - loss: 1.4412 - accuracy: 0.6165 - val_loss: 819.2596 - val_accuracy: 0.2400\n",
            "Epoch 15/100\n",
            "21/21 [==============================] - 13s 615ms/step - loss: 2.7264 - accuracy: 0.5437 - val_loss: 4760.2764 - val_accuracy: 0.2400\n",
            "Epoch 16/100\n",
            "21/21 [==============================] - 13s 628ms/step - loss: 1.3703 - accuracy: 0.5922 - val_loss: 296.9117 - val_accuracy: 0.2600\n",
            "Epoch 17/100\n",
            "21/21 [==============================] - 13s 613ms/step - loss: 1.5455 - accuracy: 0.5243 - val_loss: 2.0112 - val_accuracy: 0.3600\n",
            "Epoch 18/100\n",
            "21/21 [==============================] - 13s 614ms/step - loss: 0.9558 - accuracy: 0.5971 - val_loss: 12.0327 - val_accuracy: 0.3000\n",
            "Epoch 19/100\n",
            "21/21 [==============================] - 13s 620ms/step - loss: 0.9386 - accuracy: 0.5340 - val_loss: 4.1601 - val_accuracy: 0.4200\n",
            "Epoch 20/100\n",
            "21/21 [==============================] - 13s 634ms/step - loss: 0.9378 - accuracy: 0.6117 - val_loss: 1.4762 - val_accuracy: 0.3600\n",
            "Epoch 21/100\n",
            "21/21 [==============================] - 13s 611ms/step - loss: 1.0067 - accuracy: 0.5388 - val_loss: 1.1245 - val_accuracy: 0.6000\n",
            "Epoch 22/100\n",
            "21/21 [==============================] - 13s 626ms/step - loss: 0.8593 - accuracy: 0.6165 - val_loss: 1.0934 - val_accuracy: 0.5200\n",
            "Epoch 23/100\n",
            "21/21 [==============================] - 13s 623ms/step - loss: 0.9681 - accuracy: 0.5381 - val_loss: 0.9743 - val_accuracy: 0.6400\n",
            "Epoch 24/100\n",
            "21/21 [==============================] - 13s 629ms/step - loss: 0.7321 - accuracy: 0.6359 - val_loss: 1.0219 - val_accuracy: 0.4800\n",
            "Epoch 25/100\n",
            "21/21 [==============================] - 13s 618ms/step - loss: 1.2064 - accuracy: 0.4951 - val_loss: 0.8977 - val_accuracy: 0.6600\n",
            "Epoch 26/100\n",
            "21/21 [==============================] - 13s 622ms/step - loss: 0.9003 - accuracy: 0.5534 - val_loss: 0.7013 - val_accuracy: 0.7400\n",
            "Epoch 27/100\n",
            "21/21 [==============================] - 13s 625ms/step - loss: 0.8369 - accuracy: 0.6019 - val_loss: 0.7156 - val_accuracy: 0.6800\n",
            "Epoch 28/100\n",
            "21/21 [==============================] - 13s 619ms/step - loss: 0.9760 - accuracy: 0.5631 - val_loss: 0.6907 - val_accuracy: 0.6400\n",
            "Epoch 29/100\n",
            "21/21 [==============================] - 13s 618ms/step - loss: 0.7095 - accuracy: 0.6650 - val_loss: 0.6627 - val_accuracy: 0.6600\n",
            "Epoch 30/100\n",
            "21/21 [==============================] - 13s 619ms/step - loss: 0.8298 - accuracy: 0.6408 - val_loss: 0.6953 - val_accuracy: 0.7000\n",
            "Epoch 31/100\n",
            "21/21 [==============================] - 13s 619ms/step - loss: 0.7800 - accuracy: 0.6748 - val_loss: 0.7082 - val_accuracy: 0.7000\n",
            "Epoch 32/100\n",
            "21/21 [==============================] - 13s 613ms/step - loss: 0.6934 - accuracy: 0.6650 - val_loss: 0.7007 - val_accuracy: 0.6600\n",
            "Epoch 33/100\n",
            "21/21 [==============================] - 13s 626ms/step - loss: 0.6877 - accuracy: 0.6553 - val_loss: 0.7693 - val_accuracy: 0.6400\n",
            "Epoch 34/100\n",
            "21/21 [==============================] - 13s 619ms/step - loss: 0.7658 - accuracy: 0.6748 - val_loss: 0.7447 - val_accuracy: 0.6400\n",
            "Epoch 35/100\n",
            "21/21 [==============================] - 13s 622ms/step - loss: 0.7144 - accuracy: 0.6602 - val_loss: 1.0456 - val_accuracy: 0.6400\n",
            "Epoch 36/100\n",
            "21/21 [==============================] - 13s 621ms/step - loss: 0.7530 - accuracy: 0.6117 - val_loss: 0.8301 - val_accuracy: 0.6000\n",
            "Epoch 37/100\n",
            "21/21 [==============================] - 13s 617ms/step - loss: 0.7697 - accuracy: 0.6505 - val_loss: 1.2449 - val_accuracy: 0.5800\n",
            "Epoch 38/100\n",
            "21/21 [==============================] - 13s 621ms/step - loss: 0.7582 - accuracy: 0.6456 - val_loss: 0.6560 - val_accuracy: 0.6600\n",
            "Epoch 39/100\n",
            "21/21 [==============================] - 13s 616ms/step - loss: 0.6642 - accuracy: 0.6408 - val_loss: 0.6041 - val_accuracy: 0.7200\n",
            "Epoch 40/100\n",
            "21/21 [==============================] - 13s 626ms/step - loss: 0.6175 - accuracy: 0.6796 - val_loss: 0.5819 - val_accuracy: 0.6800\n",
            "Epoch 41/100\n",
            "21/21 [==============================] - 13s 621ms/step - loss: 0.8260 - accuracy: 0.6311 - val_loss: 179.6720 - val_accuracy: 0.5000\n",
            "Epoch 42/100\n",
            "21/21 [==============================] - 13s 625ms/step - loss: 1.1883 - accuracy: 0.6748 - val_loss: 1.6200 - val_accuracy: 0.4800\n",
            "Epoch 43/100\n",
            "21/21 [==============================] - 13s 626ms/step - loss: 1.0250 - accuracy: 0.5534 - val_loss: 1.2849 - val_accuracy: 0.3800\n",
            "Epoch 44/100\n",
            "21/21 [==============================] - 13s 623ms/step - loss: 1.9681 - accuracy: 0.5631 - val_loss: 743537.8750 - val_accuracy: 0.2400\n",
            "Epoch 45/100\n",
            "21/21 [==============================] - 13s 621ms/step - loss: 1.5083 - accuracy: 0.5810 - val_loss: 56080.1016 - val_accuracy: 0.2400\n",
            "Epoch 46/100\n",
            "21/21 [==============================] - 13s 640ms/step - loss: 1.2608 - accuracy: 0.4854 - val_loss: 117.7108 - val_accuracy: 0.2200\n",
            "Epoch 47/100\n",
            "21/21 [==============================] - 13s 614ms/step - loss: 0.8359 - accuracy: 0.6165 - val_loss: 4.9080 - val_accuracy: 0.3400\n",
            "Epoch 48/100\n",
            "21/21 [==============================] - 13s 622ms/step - loss: 0.7956 - accuracy: 0.6408 - val_loss: 30.1446 - val_accuracy: 0.2800\n",
            "Epoch 49/100\n",
            "21/21 [==============================] - 13s 622ms/step - loss: 0.8303 - accuracy: 0.6214 - val_loss: 12.8931 - val_accuracy: 0.3000\n",
            "Epoch 50/100\n",
            "21/21 [==============================] - 13s 626ms/step - loss: 0.8478 - accuracy: 0.5922 - val_loss: 2.5376 - val_accuracy: 0.1600\n",
            "Epoch 51/100\n",
            "21/21 [==============================] - 13s 624ms/step - loss: 0.9878 - accuracy: 0.5680 - val_loss: 2.6970 - val_accuracy: 0.2400\n",
            "Epoch 52/100\n",
            "21/21 [==============================] - 13s 623ms/step - loss: 0.7511 - accuracy: 0.6456 - val_loss: 2.5081 - val_accuracy: 0.2600\n",
            "Epoch 53/100\n",
            "21/21 [==============================] - 13s 623ms/step - loss: 0.8383 - accuracy: 0.6359 - val_loss: 1.7903 - val_accuracy: 0.4000\n",
            "Epoch 54/100\n",
            "21/21 [==============================] - 13s 620ms/step - loss: 0.7231 - accuracy: 0.6311 - val_loss: 1.0760 - val_accuracy: 0.4600\n",
            "Epoch 55/100\n",
            "21/21 [==============================] - 13s 615ms/step - loss: 0.6776 - accuracy: 0.6408 - val_loss: 1.2943 - val_accuracy: 0.6200\n",
            "Epoch 56/100\n",
            "21/21 [==============================] - 13s 624ms/step - loss: 0.8132 - accuracy: 0.6262 - val_loss: 1.0938 - val_accuracy: 0.5800\n",
            "Epoch 57/100\n",
            "21/21 [==============================] - 13s 621ms/step - loss: 0.7777 - accuracy: 0.5971 - val_loss: 0.6385 - val_accuracy: 0.6800\n",
            "Epoch 58/100\n",
            "21/21 [==============================] - 13s 617ms/step - loss: 0.7812 - accuracy: 0.6359 - val_loss: 14.2697 - val_accuracy: 0.5400\n",
            "Epoch 59/100\n",
            "21/21 [==============================] - 13s 619ms/step - loss: 0.5969 - accuracy: 0.6990 - val_loss: 2.2658 - val_accuracy: 0.6400\n",
            "Epoch 60/100\n",
            "21/21 [==============================] - 13s 623ms/step - loss: 0.7448 - accuracy: 0.6553 - val_loss: 0.9496 - val_accuracy: 0.6000\n",
            "Epoch 61/100\n",
            "21/21 [==============================] - 13s 620ms/step - loss: 0.7171 - accuracy: 0.6748 - val_loss: 0.5745 - val_accuracy: 0.7000\n",
            "Epoch 62/100\n",
            "21/21 [==============================] - 13s 619ms/step - loss: 0.5316 - accuracy: 0.7573 - val_loss: 0.6675 - val_accuracy: 0.7000\n",
            "Epoch 63/100\n",
            "21/21 [==============================] - 13s 615ms/step - loss: 0.6327 - accuracy: 0.6748 - val_loss: 0.5695 - val_accuracy: 0.7200\n",
            "Epoch 64/100\n",
            "21/21 [==============================] - 13s 616ms/step - loss: 0.6189 - accuracy: 0.7039 - val_loss: 0.4661 - val_accuracy: 0.7400\n",
            "Epoch 65/100\n",
            "21/21 [==============================] - 13s 621ms/step - loss: 0.6969 - accuracy: 0.6553 - val_loss: 0.7461 - val_accuracy: 0.6800\n",
            "Epoch 66/100\n",
            "21/21 [==============================] - 13s 628ms/step - loss: 0.9045 - accuracy: 0.6311 - val_loss: 0.8188 - val_accuracy: 0.6400\n",
            "Epoch 67/100\n",
            "21/21 [==============================] - 13s 625ms/step - loss: 0.7235 - accuracy: 0.6333 - val_loss: 0.7214 - val_accuracy: 0.6400\n",
            "Epoch 68/100\n",
            "21/21 [==============================] - 13s 621ms/step - loss: 0.8477 - accuracy: 0.6408 - val_loss: 1.1691 - val_accuracy: 0.5400\n",
            "Epoch 69/100\n",
            "21/21 [==============================] - 13s 620ms/step - loss: 0.8577 - accuracy: 0.6456 - val_loss: 0.6615 - val_accuracy: 0.6000\n",
            "Epoch 70/100\n",
            "21/21 [==============================] - 13s 624ms/step - loss: 0.6691 - accuracy: 0.6990 - val_loss: 2.2289 - val_accuracy: 0.7400\n",
            "Epoch 71/100\n",
            "21/21 [==============================] - 13s 617ms/step - loss: 0.8118 - accuracy: 0.6359 - val_loss: 3.1677 - val_accuracy: 0.6200\n",
            "Epoch 72/100\n",
            "21/21 [==============================] - 13s 620ms/step - loss: 0.6864 - accuracy: 0.6893 - val_loss: 1.4955 - val_accuracy: 0.7000\n",
            "Epoch 73/100\n",
            "21/21 [==============================] - 13s 617ms/step - loss: 0.6314 - accuracy: 0.6602 - val_loss: 1.2256 - val_accuracy: 0.6600\n",
            "Epoch 74/100\n",
            "21/21 [==============================] - 13s 635ms/step - loss: 0.5195 - accuracy: 0.7233 - val_loss: 1.2380 - val_accuracy: 0.6200\n",
            "Epoch 75/100\n",
            "21/21 [==============================] - 13s 613ms/step - loss: 0.5610 - accuracy: 0.6748 - val_loss: 0.7990 - val_accuracy: 0.7000\n",
            "Epoch 76/100\n",
            "21/21 [==============================] - 13s 615ms/step - loss: 0.6255 - accuracy: 0.7621 - val_loss: 1.0194 - val_accuracy: 0.5400\n",
            "Epoch 77/100\n",
            "21/21 [==============================] - 13s 613ms/step - loss: 0.7264 - accuracy: 0.6748 - val_loss: 0.6192 - val_accuracy: 0.6600\n",
            "Epoch 78/100\n",
            "21/21 [==============================] - 13s 622ms/step - loss: 0.7056 - accuracy: 0.6845 - val_loss: 0.5446 - val_accuracy: 0.6800\n",
            "Epoch 79/100\n",
            "21/21 [==============================] - 13s 620ms/step - loss: 0.5226 - accuracy: 0.7427 - val_loss: 0.5243 - val_accuracy: 0.6800\n",
            "Epoch 80/100\n",
            "21/21 [==============================] - 13s 614ms/step - loss: 0.6919 - accuracy: 0.7039 - val_loss: 0.9323 - val_accuracy: 0.5200\n",
            "Epoch 81/100\n",
            "21/21 [==============================] - 13s 628ms/step - loss: 0.5326 - accuracy: 0.7524 - val_loss: 0.5138 - val_accuracy: 0.7200\n",
            "Epoch 82/100\n",
            "21/21 [==============================] - 13s 619ms/step - loss: 0.4978 - accuracy: 0.7476 - val_loss: 0.4745 - val_accuracy: 0.7000\n",
            "Epoch 83/100\n",
            "21/21 [==============================] - 13s 616ms/step - loss: 0.4967 - accuracy: 0.7524 - val_loss: 0.6620 - val_accuracy: 0.6000\n",
            "Epoch 84/100\n",
            "21/21 [==============================] - 13s 621ms/step - loss: 0.6205 - accuracy: 0.7476 - val_loss: 0.4997 - val_accuracy: 0.7400\n",
            "Epoch 85/100\n",
            "21/21 [==============================] - 13s 620ms/step - loss: 0.6107 - accuracy: 0.6942 - val_loss: 0.6664 - val_accuracy: 0.7000\n",
            "Epoch 86/100\n",
            "21/21 [==============================] - 13s 614ms/step - loss: 0.5126 - accuracy: 0.7476 - val_loss: 0.4538 - val_accuracy: 0.8000\n",
            "Epoch 87/100\n",
            "21/21 [==============================] - 13s 616ms/step - loss: 0.4613 - accuracy: 0.7816 - val_loss: 0.4801 - val_accuracy: 0.7200\n",
            "Epoch 88/100\n",
            "21/21 [==============================] - 13s 622ms/step - loss: 0.5691 - accuracy: 0.7573 - val_loss: 0.7568 - val_accuracy: 0.7200\n",
            "Epoch 89/100\n",
            "21/21 [==============================] - 13s 629ms/step - loss: 0.5589 - accuracy: 0.7381 - val_loss: 0.4765 - val_accuracy: 0.7200\n",
            "Epoch 90/100\n",
            "21/21 [==============================] - 13s 628ms/step - loss: 0.4726 - accuracy: 0.7670 - val_loss: 0.4736 - val_accuracy: 0.6800\n",
            "Epoch 91/100\n",
            "21/21 [==============================] - 13s 624ms/step - loss: 0.5060 - accuracy: 0.7573 - val_loss: 0.4550 - val_accuracy: 0.7200\n",
            "Epoch 92/100\n",
            "21/21 [==============================] - 13s 613ms/step - loss: 0.5089 - accuracy: 0.7476 - val_loss: 0.4511 - val_accuracy: 0.6800\n",
            "Epoch 93/100\n",
            "21/21 [==============================] - 13s 630ms/step - loss: 0.5861 - accuracy: 0.7476 - val_loss: 0.9361 - val_accuracy: 0.5600\n",
            "Epoch 94/100\n",
            "21/21 [==============================] - 13s 621ms/step - loss: 0.5177 - accuracy: 0.7379 - val_loss: 0.4648 - val_accuracy: 0.7800\n",
            "Epoch 95/100\n",
            "21/21 [==============================] - 13s 623ms/step - loss: 0.5100 - accuracy: 0.7864 - val_loss: 0.6684 - val_accuracy: 0.7000\n",
            "Epoch 96/100\n",
            "21/21 [==============================] - 13s 617ms/step - loss: 0.4351 - accuracy: 0.7864 - val_loss: 0.6736 - val_accuracy: 0.7000\n",
            "Epoch 97/100\n",
            "21/21 [==============================] - 13s 622ms/step - loss: 0.5203 - accuracy: 0.7524 - val_loss: 0.5883 - val_accuracy: 0.7200\n",
            "Epoch 98/100\n",
            "21/21 [==============================] - 13s 615ms/step - loss: 0.5206 - accuracy: 0.7573 - val_loss: 0.6698 - val_accuracy: 0.6600\n",
            "Epoch 99/100\n",
            "21/21 [==============================] - 13s 631ms/step - loss: 0.4924 - accuracy: 0.7767 - val_loss: 0.7080 - val_accuracy: 0.7200\n",
            "Epoch 100/100\n",
            "21/21 [==============================] - 13s 616ms/step - loss: 0.4995 - accuracy: 0.7524 - val_loss: 0.8458 - val_accuracy: 0.6000\n"
          ],
          "name": "stdout"
        }
      ]
    },
    {
      "cell_type": "code",
      "metadata": {
        "id": "0b5x320LhF14",
        "colab_type": "code",
        "colab": {
          "base_uri": "https://localhost:8080/",
          "height": 295
        },
        "outputId": "070ef79c-dfb6-437e-9dfc-643e6423a668"
      },
      "source": [
        "import matplotlib.pyplot as plt\n",
        "\n",
        "# raise NotImplementedError(\"Plot the accuracy and the loss during training\")\n",
        "\n",
        "fig, (ax) = plt.subplots(1, 2)\n",
        "\n",
        "c=0\n",
        "\n",
        "for i in ['accuracy', 'loss']:\n",
        "  ax[c].plot(history2.history[i], label='Train_'+i)\n",
        "  ax[c].plot(history2.history['val_'+i], label='Test_'+i)\n",
        "  ax[c].set_xlabel('Epoch')\n",
        "  ax[c].set_ylabel(i)\n",
        "  if i=='accuracy':\n",
        "    ax[c].legend(loc='lower right')\n",
        "  else:\n",
        "    ax[c].legend(loc='upper right')\n",
        "\n",
        "  ax[c].set_title(str(i)+' over '+str(NUM_EPOCHS)+' epochs')\n",
        "  c+=1\n",
        "\n",
        "plt.show()"
      ],
      "execution_count": 9,
      "outputs": [
        {
          "output_type": "display_data",
          "data": {
            "image/png": "[encoded data removed]",
            "text/plain": [
              "<Figure size 432x288 with 2 Axes>"
            ]
          },
          "metadata": {
            "tags": [],
            "needs_background": "light"
          }
        }
      ]
    },
    {
      "cell_type": "code",
      "metadata": {
        "id": "EbXzRkqBhLOF",
        "colab_type": "code",
        "colab": {
          "base_uri": "https://localhost:8080/",
          "height": 173
        },
        "outputId": "ce6eccef-8c51-4e11-d75b-1d1052eb0ec6"
      },
      "source": [
        "test_datagen2 = ImageDataGenerator(rescale=1. / 255)\n",
        "\n",
        "eval_generator2 = test_datagen2.flow_from_directory(TEST_DIR,target_size=IMAGE_SIZE,\n",
        "                                                  batch_size=1,shuffle=True,seed=42,class_mode=\"categorical\")\n",
        "eval_generator2.reset()\n",
        "print(len(eval_generator2))\n",
        "x = model2.evaluate_generator(eval_generator2,steps = np.ceil(len(eval_generator2)),\n",
        "                           use_multiprocessing = False,verbose = 1,workers=1)\n",
        "print('Test loss:' , x[0])\n",
        "print('Test accuracy:',x[1])"
      ],
      "execution_count": 12,
      "outputs": [
        {
          "output_type": "stream",
          "text": [
            "Found 36 images belonging to 4 classes.\n",
            "36\n",
            "WARNING:tensorflow:From <ipython-input-12-325672fc6851>:8: Model.evaluate_generator (from tensorflow.python.keras.engine.training) is deprecated and will be removed in a future version.\n",
            "Instructions for updating:\n",
            "Please use Model.evaluate, which supports generators.\n",
            "36/36 [==============================] - 22s 604ms/step - loss: 0.9012 - accuracy: 0.6389\n",
            "Test loss: 0.9011927843093872\n",
            "Test accuracy: 0.6388888955116272\n"
          ],
          "name": "stdout"
        }
      ]
    },
    {
      "cell_type": "code",
      "metadata": {
        "id": "zErS7GGzhV8x",
        "colab_type": "code",
        "colab": {
          "base_uri": "https://localhost:8080/",
          "height": 68
        },
        "outputId": "340e1bfb-e7c2-428c-b2c5-6db2a226315f"
      },
      "source": [
        "from sklearn.manifold import TSNE\n",
        "\n",
        "intermediate_layer_model2 = Model(inputs=model2.input,\n",
        "                                        outputs=model2.get_layer('dense_resnet_1').output)\n",
        "\n",
        "tsne_eval_generator2 = test_datagen2.flow_from_directory(DATASET_PATH,target_size=IMAGE_SIZE,\n",
        "                                                  batch_size=1,shuffle=False,seed=42,class_mode=\"categorical\")\n",
        "\n",
        "# raise NotImplementedError(\"Extract features from the tsne_data_generator and fit a t-SNE model for the features,\"\n",
        "#                           \"and plot the resulting 2D features of the four classes.\")\n",
        "activations2 = intermediate_layer_model2.predict(tsne_eval_generator2, 1, verbose=1, steps = 270)\n",
        "tsne2 = TSNE(n_components=2,init='random',random_state= 55)\n",
        "print(activations2.shape)\n",
        "tsne_obj2 = tsne2.fit_transform(activations2)"
      ],
      "execution_count": 31,
      "outputs": [
        {
          "output_type": "stream",
          "text": [
            "Found 270 images belonging to 4 classes.\n",
            "270/270 [==============================] - 19s 69ms/step\n",
            "(270, 512)\n"
          ],
          "name": "stdout"
        }
      ]
    },
    {
      "cell_type": "code",
      "metadata": {
        "id": "3wNOdVblJKBU",
        "colab_type": "code",
        "colab": {
          "base_uri": "https://localhost:8080/",
          "height": 315
        },
        "outputId": "f34e7bde-9c27-4cb0-ac31-49353ae1aefc"
      },
      "source": [
        "print(tsne_obj2.shape)\n",
        "colors = ['blue', 'orange', 'green', 'red']\n",
        "c=[colors[i] for i in tsne_eval_generator2.labels]\n",
        "labels = ['COVID-19','Normal', 'Pneumonia_bac', 'Pneumonia_vir']\n",
        "l=[labels[i] for i in tsne_eval_generator2.labels]\n",
        "\n",
        "x1 = []\n",
        "y1 = []\n",
        "\n",
        "for i in range(len(labels)):\n",
        "  x2 = []\n",
        "  y2 = []\n",
        "  for j in range(tsne_obj2.shape[0]):\n",
        "    if(tsne_eval_generator2.labels[j]==i):\n",
        "      x2.append(tsne_obj2[j,0])\n",
        "      y2.append(tsne_obj2[j,1])\n",
        "  x1.append(x2)\n",
        "  y1.append(y2)\n",
        "\n",
        "for i in range(len(labels)):\n",
        "  plt.scatter(x1[i][:], y1[i],c = colors[i],label = labels[i])\n",
        "\n",
        "plt.title(\"Multinomial X-Ray Chest Image Classification\")\n",
        "plt.legend()"
      ],
      "execution_count": 32,
      "outputs": [
        {
          "output_type": "stream",
          "text": [
            "(270, 2)\n"
          ],
          "name": "stdout"
        },
        {
          "output_type": "execute_result",
          "data": {
            "text/plain": [
              "<matplotlib.legend.Legend at 0x7f8bbbe304e0>"
            ]
          },
          "metadata": {
            "tags": []
          },
          "execution_count": 32
        },
        {
          "output_type": "display_data",
          "data": {
            "image/png": "[encoded data removed]",
            "text/plain": [
              "<Figure size 432x288 with 1 Axes>"
            ]
          },
          "metadata": {
            "tags": [],
            "needs_background": "light"
          }
        }
      ]
    },
    {
      "cell_type": "markdown",
      "metadata": {
        "id": "oTyRbiqyFQIW",
        "colab_type": "text"
      },
      "source": [
        "<!-- ## Task 2: COVID-19 vs Normal vs Tertiary Pneumonia (Bacterial and Viral) -->"
      ]
    },
    {
      "cell_type": "markdown",
      "metadata": {
        "nbpresent": {
          "id": "66140980-2aa4-457f-b1df-74c10c234cc2"
        },
        "id": "ygiA73sYFQIW",
        "colab_type": "text"
      },
      "source": [
        "<!-- #### Renew Training Batch and Validation Batch -->"
      ]
    },
    {
      "cell_type": "markdown",
      "metadata": {
        "nbpresent": {
          "id": "66140980-2aa4-457f-b1df-74c10c234cc2"
        },
        "id": "Ek7_Cwc9FQIX",
        "colab_type": "text"
      },
      "source": [
        "<!-- #### Renew Model -->"
      ]
    }
  ]
}